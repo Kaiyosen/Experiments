{
 "cells": [
  {
   "cell_type": "code",
   "execution_count": null,
   "id": "3c46be1e",
   "metadata": {},
   "outputs": [
    {
     "name": "stdout",
     "output_type": "stream",
     "text": [
      "x_train shape: (60000, 28, 28, 1)\n",
      "60000 train samples\n",
      "10000 test samples\n",
      "Epoch 1/15\n",
      "469/469 [==============================] - 83s 173ms/step - loss: 28.8388 - accuracy: 0.1630 - val_loss: 4.5254 - val_accuracy: 0.4431\n",
      "Epoch 2/15\n",
      "469/469 [==============================] - 87s 185ms/step - loss: 12.6008 - accuracy: 0.2697 - val_loss: 1.9301 - val_accuracy: 0.5736\n",
      "Epoch 3/15\n",
      "469/469 [==============================] - 91s 193ms/step - loss: 6.5574 - accuracy: 0.3269 - val_loss: 1.3583 - val_accuracy: 0.5560\n",
      "Epoch 4/15\n",
      "469/469 [==============================] - 92s 196ms/step - loss: 3.9341 - accuracy: 0.3338 - val_loss: 1.5479 - val_accuracy: 0.4599\n",
      "Epoch 5/15\n",
      "469/469 [==============================] - 89s 189ms/step - loss: 2.7928 - accuracy: 0.3247 - val_loss: 1.7194 - val_accuracy: 0.4492\n",
      "Epoch 6/15\n",
      "469/469 [==============================] - 87s 185ms/step - loss: 2.3675 - accuracy: 0.3340 - val_loss: 1.7869 - val_accuracy: 0.4326\n",
      "Epoch 7/15\n",
      "469/469 [==============================] - 94s 200ms/step - loss: 2.1665 - accuracy: 0.3447 - val_loss: 1.7753 - val_accuracy: 0.4396\n",
      "Epoch 8/15\n",
      "469/469 [==============================] - 101s 216ms/step - loss: 2.0583 - accuracy: 0.3575 - val_loss: 1.7266 - val_accuracy: 0.4680\n",
      "Epoch 9/15\n",
      "469/469 [==============================] - 86s 182ms/step - loss: 1.9894 - accuracy: 0.3750 - val_loss: 1.6544 - val_accuracy: 0.5100\n",
      "Epoch 10/15\n",
      " 12/469 [..............................] - ETA: 1:23 - loss: 1.9380 - accuracy: 0.3828"
     ]
    }
   ],
   "source": [
    "import keras\n",
    "from keras.datasets import mnist\n",
    "from keras.models import Sequential\n",
    "from keras.layers import Dense, Dropout, Flatten\n",
    "from keras.layers import Conv2D, MaxPooling2D\n",
    "import numpy as np\n",
    "\n",
    "batch_size = 128\n",
    "num_classes = 10\n",
    "epochs = 15\n",
    "# input image dimensions\n",
    "img_rows, img_cols = 28, 28\n",
    "\n",
    "# the data, split between train and test sets\n",
    "(x_train, y_train), (x_test, y_test) = mnist.load_data()\n",
    "x_train = x_train.reshape(60000,28,28,1)\n",
    "x_test = x_test.reshape(10000,28,28,1)\n",
    "print('x_train shape:', x_train.shape)\n",
    "print(x_train.shape[0], 'train samples')\n",
    "print(x_test.shape[0], 'test samples')\n",
    "\n",
    "# convert class vectors to binary class matrices\n",
    "y_train = keras.utils.to_categorical(y_train, num_classes)\n",
    "y_test = keras.utils.to_categorical(y_test, num_classes)\n",
    "model = Sequential()\n",
    "model.add(Conv2D(32, kernel_size=(3, 3),\n",
    "activation='relu',\n",
    "input_shape=(28,28,1)))\n",
    "model.add(Conv2D(64, (3, 3), activation='relu'))\n",
    "model.add(MaxPooling2D(pool_size=(2, 2)))\n",
    "model.add(Dropout(0.25))\n",
    "model.add(Flatten())\n",
    "model.add(Dense(128, activation='relu'))\n",
    "model.add(Dropout(0.5))\n",
    "model.add(Dense(num_classes, activation='softmax'))\n",
    "model.compile(loss=keras.losses.categorical_crossentropy,\n",
    "optimizer=keras.optimizers.Adadelta(),\n",
    "metrics=['accuracy'])\n",
    "\n",
    "model.fit(x_train, y_train,\n",
    "batch_size=batch_size,\n",
    "epochs=epochs,\n",
    "verbose=1,\n",
    "validation_data=(x_test, y_test))\n",
    "score = model.evaluate(x_test, y_test, verbose=0)\n",
    "print('Test loss:', score[0])\n",
    "print('Test accuracy:', score[1])"
   ]
  },
  {
   "cell_type": "code",
   "execution_count": null,
   "id": "918afb49",
   "metadata": {},
   "outputs": [],
   "source": []
  }
 ],
 "metadata": {
  "kernelspec": {
   "display_name": "Python 3 (ipykernel)",
   "language": "python",
   "name": "python3"
  },
  "language_info": {
   "codemirror_mode": {
    "name": "ipython",
    "version": 3
   },
   "file_extension": ".py",
   "mimetype": "text/x-python",
   "name": "python",
   "nbconvert_exporter": "python",
   "pygments_lexer": "ipython3",
   "version": "3.10.12"
  }
 },
 "nbformat": 4,
 "nbformat_minor": 5
}
