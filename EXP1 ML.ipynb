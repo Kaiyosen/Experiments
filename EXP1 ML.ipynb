{
 "cells": [
  {
   "cell_type": "code",
   "execution_count": 4,
   "metadata": {},
   "outputs": [
    {
     "name": "stderr",
     "output_type": "stream",
     "text": [
      "ERROR: Could not find a version that satisfies the requirement collections (from versions: none)\n",
      "ERROR: No matching distribution found for collections\n"
     ]
    }
   ],
   "source": [
    "!pip install collections\n"
   ]
  },
  {
   "cell_type": "code",
   "execution_count": 5,
   "metadata": {},
   "outputs": [],
   "source": [
    "import pandas as pd\n",
    "from matplotlib import pyplot as plt\n",
    "from collections import Counter\n",
    "a=[1,30,35,34,39,40,32,31,31,35,35,30,41,42,43,100]\n",
    "a.sort()"
   ]
  },
  {
   "cell_type": "code",
   "execution_count": 6,
   "metadata": {},
   "outputs": [],
   "source": [
    "def mean(data):\n",
    "    mean=sum(data)/len(data)\n",
    "    return mean\n"
   ]
  },
  {
   "cell_type": "code",
   "execution_count": 7,
   "metadata": {},
   "outputs": [],
   "source": [
    "def median(data):\n",
    "    n=len(data)\n",
    "    if n%2==0:\n",
    "        median=data[n//2]\n",
    "    else:\n",
    "        median=(data[(n+1)//2]+data[n//2])//2\n",
    "    return median"
   ]
  },
  {
   "cell_type": "code",
   "execution_count": 8,
   "metadata": {},
   "outputs": [],
   "source": [
    "def mode(data):\n",
    "    a=Counter(data)\n",
    "    mode=a.most_common(10)\n",
    "    return mode[0][0]"
   ]
  },
  {
   "cell_type": "code",
   "execution_count": 9,
   "metadata": {},
   "outputs": [
    {
     "name": "stdout",
     "output_type": "stream",
     "text": [
      "Mean:  37.4375  Median:  35  Mode:  35\n"
     ]
    }
   ],
   "source": [
    "x=mean(a)\n",
    "y=median(a)\n",
    "z=mode(a)\n",
    "print(\"Mean: \",x, \" Median: \",y, \" Mode: \",z)"
   ]
  },
  {
   "cell_type": "code",
   "execution_count": 10,
   "metadata": {},
   "outputs": [
    {
     "name": "stdout",
     "output_type": "stream",
     "text": [
      "Not A Normalized Distribution\n"
     ]
    }
   ],
   "source": [
    "if(x==y and y==z):\n",
    "    print(\"Normalized Distribution\")\n",
    "else:\n",
    "    print(\"Not A Normalized Distribution\")"
   ]
  },
  {
   "cell_type": "code",
   "execution_count": 11,
   "metadata": {},
   "outputs": [
    {
     "data": {
      "text/plain": [
       "<matplotlib.lines.Line2D at 0x2d308706760>"
      ]
     },
     "execution_count": 11,
     "metadata": {},
     "output_type": "execute_result"
    },
    {
     "data": {
      "image/png": "[encoded data removed]",
      "text/plain": [
       "<Figure size 432x288 with 1 Axes>"
      ]
     },
     "metadata": {
      "needs_background": "light"
     },
     "output_type": "display_data"
    }
   ],
   "source": [
    "\n",
    "plt.hist(a)\n",
    "plt.axvline(x,color=\"red\")\n",
    "plt.axvline(y,color=\"yellow\")\n",
    "plt.axvline(z,color=\"green\")"
   ]
  },
  {
   "cell_type": "code",
   "execution_count": 12,
   "metadata": {
    "scrolled": true
   },
   "outputs": [
    {
     "name": "stdout",
     "output_type": "stream",
     "text": [
      "Inter Quartile Range:  9.5\n",
      "Lower Bound:  16.75\n",
      "Upper Bound:  54.75\n",
      "New Array:  [30, 30, 31, 31, 32, 34, 35, 35, 35, 39, 40, 41, 42, 43]\n",
      "Mean:  35.57142857142857  Median:  35  Mode:  35\n"
     ]
    }
   ],
   "source": [
    "def quartile(l,n):\n",
    "    if n%2==0:\n",
    "        q1=(l[(n//4)-1]+l[(n//4)])/2\n",
    "        q3=(l[((3*n)//4)-1]+l[((3*n)//4)])/2\n",
    "    else:\n",
    "        q1=l[(n//4)]\n",
    "        q3=l[(3*n)//4]\n",
    "    \n",
    "    return q1,q3\n",
    "q1,q3=quartile(a,len(a))\n",
    "iqr=q3-q1\n",
    "lower_bound=q1-iqr*1.5\n",
    "upper_bound=q3+iqr*1.5\n",
    "print(\"Inter Quartile Range: \",iqr)\n",
    "print(\"Lower Bound: \",lower_bound)\n",
    "print(\"Upper Bound: \",upper_bound)\n",
    "new_a=[]\n",
    "for i in a:\n",
    "    if i>lower_bound and i<upper_bound:\n",
    "        new_a.append(i)\n",
    "print(\"New Array: \",new_a)\n",
    "new_x=mean(new_a)\n",
    "new_y=median(new_a)\n",
    "new_z=mode(new_a)\n",
    "print(\"Mean: \",new_x, \" Median: \",new_y, \" Mode: \",new_z)"
   ]
  },
  {
   "cell_type": "code",
   "execution_count": 13,
   "metadata": {},
   "outputs": [
    {
     "data": {
      "text/plain": [
       "<matplotlib.lines.Line2D at 0x2d3097d1fd0>"
      ]
     },
     "execution_count": 13,
     "metadata": {},
     "output_type": "execute_result"
    },
    {
     "data": {
      "image/png": "[encoded data removed]",
      "text/plain": [
       "<Figure size 432x288 with 1 Axes>"
      ]
     },
     "metadata": {
      "needs_background": "light"
     },
     "output_type": "display_data"
    }
   ],
   "source": [
    "plt.hist(new_a)\n",
    "plt.axvline(new_x,color=\"red\")\n",
    "plt.axvline(new_y,color=\"yellow\")\n",
    "plt.axvline(new_z,color=\"green\")"
   ]
  },
  {
   "cell_type": "code",
   "execution_count": 14,
   "metadata": {},
   "outputs": [
    {
     "name": "stdout",
     "output_type": "stream",
     "text": [
      "Mean Group 1: 5.285714285714286  Median Group 1:  6  Mode Group 1: 7\n",
      "Mean Group 2: 18.6  Median Group 2:  20  Mode Group 2: 20\n",
      "Mean Group 3: 25.333333333333332  Median Group 3:  25  Mode Group 3: 24\n"
     ]
    }
   ],
   "source": [
    "a=[1,5,7,3,8,6,7,25,23,21,24,27,14,19,20,20,20,24,25,29,30]\n",
    "a.sort()\n",
    "g1=[]\n",
    "g2=[]\n",
    "g3=[]\n",
    "for i in a:\n",
    "    if i>0 and i<=10:\n",
    "        g1.append(i)\n",
    "    elif i>10 and i<=20:\n",
    "        g2.append(i)\n",
    "    else:\n",
    "        g3.append(i)\n",
    "g1mmd=[mean(g1),median(g1),mode(g1)]\n",
    "g2mmd=[mean(g2),median(g2),mode(g2)]\n",
    "g3mmd=[mean(g3),median(g3),mode(g3)]\n",
    "print(\"Mean Group 1:\",g1mmd[0],\" Median Group 1: \",g1mmd[1],\" Mode Group 1:\",g1mmd[2])\n",
    "print(\"Mean Group 2:\",g2mmd[0],\" Median Group 2: \",g2mmd[1],\" Mode Group 2:\",g2mmd[2])\n",
    "print(\"Mean Group 3:\",g3mmd[0],\" Median Group 3: \",g3mmd[1],\" Mode Group 3:\",g3mmd[2])"
   ]
  },
  {
   "cell_type": "code",
   "execution_count": 29,
   "metadata": {},
   "outputs": [
    {
     "name": "stdout",
     "output_type": "stream",
     "text": [
      "        Jan  Feb  Mar  Apr\n",
      "Week 1   21   26   35   41\n",
      "Week 2   20   23   36   40\n",
      "Week 3   21   34   36   40\n",
      "Week 4   30   34   39   42\n"
     ]
    }
   ],
   "source": [
    "Sales={\"Jan\":[21,20,21,30],\"Feb\":[26,23,34,34],\"Mar\":[35,36,36,39],\"Apr\":[41,40,40,42]}\n",
    "df=pd.DataFrame(Sales,index=[\"Week 1\",\"Week 2\",\"Week 3\",\"Week 4\"])\n",
    "print(df)"
   ]
  },
  {
   "cell_type": "code",
   "execution_count": 30,
   "metadata": {},
   "outputs": [
    {
     "name": "stdout",
     "output_type": "stream",
     "text": [
      "Mean\n",
      "Jan    23.00\n",
      "Feb    29.25\n",
      "Mar    36.50\n",
      "Apr    40.75\n",
      "dtype: float64\n",
      "Median\n",
      "Jan    21.0\n",
      "Feb    30.0\n",
      "Mar    36.0\n",
      "Apr    40.5\n",
      "dtype: float64\n",
      "Mode\n",
      "   Jan  Feb  Mar  Apr\n",
      "0   21   34   36   40\n"
     ]
    }
   ],
   "source": [
    "dfmean=df.mean()\n",
    "dfmedian=df.median()\n",
    "dfmode=df.mode()\n",
    "print(\"Mean\")\n",
    "print(dfmean)\n",
    "print(\"Median\")\n",
    "print(dfmedian)\n",
    "print(\"Mode\")\n",
    "print(dfmode)"
   ]
  },
  {
   "cell_type": "code",
   "execution_count": 31,
   "metadata": {},
   "outputs": [
    {
     "name": "stdout",
     "output_type": "stream",
     "text": [
      "        Jan  Feb  Mar  Apr   Jan_Log   Feb_Log   Mar_Log   Apr_Log\n",
      "Week 1   21   26   35   41  3.044522  3.258097  3.555348  3.713572\n",
      "Week 2   20   23   36   40  2.995732  3.135494  3.583519  3.688879\n",
      "Week 3   21   34   36   40  3.044522  3.526361  3.583519  3.688879\n",
      "Week 4   30   34   39   42  3.401197  3.526361  3.663562  3.737670\n"
     ]
    }
   ],
   "source": [
    "df['Jan_Log'] = np.log(df['Jan'])\n",
    "df['Feb_Log'] = np.log(df['Feb'])\n",
    "df['Mar_Log'] = np.log(df['Mar'])\n",
    "df['Apr_Log'] = np.log(df['Apr'])\n",
    "print(df)"
   ]
  },
  {
   "cell_type": "code",
   "execution_count": 32,
   "metadata": {},
   "outputs": [
    {
     "name": "stdout",
     "output_type": "stream",
     "text": [
      "Mean\n",
      "Jan        23.000000\n",
      "Feb        29.250000\n",
      "Mar        36.500000\n",
      "Apr        40.750000\n",
      "Jan_Log     3.121494\n",
      "Feb_Log     3.361578\n",
      "Mar_Log     3.596487\n",
      "Apr_Log     3.707250\n",
      "dtype: float64\n",
      "Median\n",
      "Jan        21.000000\n",
      "Feb        30.000000\n",
      "Mar        36.000000\n",
      "Apr        40.500000\n",
      "Jan_Log     3.044522\n",
      "Feb_Log     3.392229\n",
      "Mar_Log     3.583519\n",
      "Apr_Log     3.701226\n",
      "dtype: float64\n",
      "Mode\n",
      "   Jan  Feb  Mar  Apr   Jan_Log   Feb_Log   Mar_Log   Apr_Log\n",
      "0   21   34   36   40  3.044522  3.526361  3.583519  3.688879\n"
     ]
    }
   ],
   "source": [
    "dfmean=df.mean()\n",
    "dfmedian=df.median()\n",
    "dfmode=df.mode()\n",
    "print(\"Mean\")\n",
    "print(dfmean)\n",
    "print(\"Median\")\n",
    "print(dfmedian)\n",
    "print(\"Mode\")\n",
    "print(dfmode)"
   ]
  },
  {
   "cell_type": "code",
   "execution_count": null,
   "metadata": {},
   "outputs": [],
   "source": []
  }
 ],
 "metadata": {
  "kernelspec": {
   "display_name": "Python 3 (ipykernel)",
   "language": "python",
   "name": "python3"
  },
  "language_info": {
   "codemirror_mode": {
    "name": "ipython",
    "version": 3
   },
   "file_extension": ".py",
   "mimetype": "text/x-python",
   "name": "python",
   "nbconvert_exporter": "python",
   "pygments_lexer": "ipython3",
   "version": "3.9.12"
  },
  "vscode": {
   "interpreter": {
    "hash": "a3b2582901d76b054feb9668eb3e057efc1afdff3b93049e88265c318252508f"
   }
  }
 },
 "nbformat": 4,
 "nbformat_minor": 2
}
