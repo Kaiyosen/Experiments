{
 "cells": [
  {
   "cell_type": "markdown",
   "metadata": {
    "id": "vFmqXBf7rUDq"
   },
   "source": [
    "**MISSING VALUES**"
   ]
  },
  {
   "cell_type": "markdown",
   "metadata": {
    "id": "m0nmB3Shg4LH"
   },
   "source": [
    "**Q1.**"
   ]
  },
  {
   "cell_type": "code",
   "execution_count": null,
   "metadata": {
    "colab": {
     "base_uri": "https://localhost:8080/",
     "height": 1000
    },
    "id": "cpwIat7EnhVN",
    "outputId": "b75c489f-b6f1-4df7-febe-41e12af6e256"
   },
   "outputs": [
    {
     "ename": "ImportError",
     "errorDetails": {
      "actions": [
       {
        "action": "open_url",
        "actionText": "Open Examples",
        "url": "/notebooks/snippets/importing_libraries.ipynb"
       }
      ]
     },
     "evalue": "ignored",
     "output_type": "error",
     "traceback": [
      "\u001b[0;31m---------------------------------------------------------------------------\u001b[0m",
      "\u001b[0;31mImportError\u001b[0m                               Traceback (most recent call last)",
      "\u001b[0;32m<ipython-input-1-10e7d8aec7d4>\u001b[0m in \u001b[0;36m<module>\u001b[0;34m\u001b[0m\n\u001b[1;32m      1\u001b[0m \u001b[0;32mimport\u001b[0m \u001b[0mnumpy\u001b[0m \u001b[0;32mas\u001b[0m \u001b[0mnp\u001b[0m\u001b[0;34m\u001b[0m\u001b[0;34m\u001b[0m\u001b[0m\n\u001b[0;32m----> 2\u001b[0;31m \u001b[0;32mfrom\u001b[0m \u001b[0msklearn\u001b[0m\u001b[0;34m.\u001b[0m\u001b[0mdatasets\u001b[0m \u001b[0;32mimport\u001b[0m \u001b[0mload_boston\u001b[0m\u001b[0;34m\u001b[0m\u001b[0;34m\u001b[0m\u001b[0m\n\u001b[0m\u001b[1;32m      3\u001b[0m \u001b[0;32mfrom\u001b[0m \u001b[0msklearn\u001b[0m\u001b[0;34m.\u001b[0m\u001b[0mlinear_model\u001b[0m \u001b[0;32mimport\u001b[0m \u001b[0mLinearRegression\u001b[0m\u001b[0;34m\u001b[0m\u001b[0;34m\u001b[0m\u001b[0m\n\u001b[1;32m      4\u001b[0m \u001b[0;32mfrom\u001b[0m \u001b[0msklearn\u001b[0m\u001b[0;34m.\u001b[0m\u001b[0mimpute\u001b[0m \u001b[0;32mimport\u001b[0m \u001b[0mSimpleImputer\u001b[0m\u001b[0;34m\u001b[0m\u001b[0;34m\u001b[0m\u001b[0m\n\u001b[1;32m      5\u001b[0m \u001b[0;32mfrom\u001b[0m \u001b[0msklearn\u001b[0m\u001b[0;34m.\u001b[0m\u001b[0mmetrics\u001b[0m \u001b[0;32mimport\u001b[0m \u001b[0mmean_squared_error\u001b[0m\u001b[0;34m\u001b[0m\u001b[0;34m\u001b[0m\u001b[0m\n",
      "\u001b[0;32m/usr/local/lib/python3.9/dist-packages/sklearn/datasets/__init__.py\u001b[0m in \u001b[0;36m__getattr__\u001b[0;34m(name)\u001b[0m\n\u001b[1;32m    154\u001b[0m             \"\"\"\n\u001b[1;32m    155\u001b[0m         )\n\u001b[0;32m--> 156\u001b[0;31m         \u001b[0;32mraise\u001b[0m \u001b[0mImportError\u001b[0m\u001b[0;34m(\u001b[0m\u001b[0mmsg\u001b[0m\u001b[0;34m)\u001b[0m\u001b[0;34m\u001b[0m\u001b[0;34m\u001b[0m\u001b[0m\n\u001b[0m\u001b[1;32m    157\u001b[0m     \u001b[0;32mtry\u001b[0m\u001b[0;34m:\u001b[0m\u001b[0;34m\u001b[0m\u001b[0;34m\u001b[0m\u001b[0m\n\u001b[1;32m    158\u001b[0m         \u001b[0;32mreturn\u001b[0m \u001b[0mglobals\u001b[0m\u001b[0;34m(\u001b[0m\u001b[0;34m)\u001b[0m\u001b[0;34m[\u001b[0m\u001b[0mname\u001b[0m\u001b[0;34m]\u001b[0m\u001b[0;34m\u001b[0m\u001b[0;34m\u001b[0m\u001b[0m\n",
      "\u001b[0;31mImportError\u001b[0m: \n`load_boston` has been removed from scikit-learn since version 1.2.\n\nThe Boston housing prices dataset has an ethical problem: as\ninvestigated in [1], the authors of this dataset engineered a\nnon-invertible variable \"B\" assuming that racial self-segregation had a\npositive impact on house prices [2]. Furthermore the goal of the\nresearch that led to the creation of this dataset was to study the\nimpact of air quality but it did not give adequate demonstration of the\nvalidity of this assumption.\n\nThe scikit-learn maintainers therefore strongly discourage the use of\nthis dataset unless the purpose of the code is to study and educate\nabout ethical issues in data science and machine learning.\n\nIn this special case, you can fetch the dataset from the original\nsource::\n\n    import pandas as pd\n    import numpy as np\n\n    data_url = \"http://lib.stat.cmu.edu/datasets/boston\"\n    raw_df = pd.read_csv(data_url, sep=\"\\s+\", skiprows=22, header=None)\n    data = np.hstack([raw_df.values[::2, :], raw_df.values[1::2, :2]])\n    target = raw_df.values[1::2, 2]\n\nAlternative datasets include the California housing dataset and the\nAmes housing dataset. You can load the datasets as follows::\n\n    from sklearn.datasets import fetch_california_housing\n    housing = fetch_california_housing()\n\nfor the California housing dataset and::\n\n    from sklearn.datasets import fetch_openml\n    housing = fetch_openml(name=\"house_prices\", as_frame=True)\n\nfor the Ames housing dataset.\n\n[1] M Carlisle.\n\"Racist data destruction?\"\n<https://medium.com/@docintangible/racist-data-destruction-113e3eff54a8>\n\n[2] Harrison Jr, David, and Daniel L. Rubinfeld.\n\"Hedonic housing prices and the demand for clean air.\"\nJournal of environmental economics and management 5.1 (1978): 81-102.\n<https://www.researchgate.net/publication/4974606_Hedonic_housing_prices_and_the_demand_for_clean_air>\n",
      "",
      "\u001b[0;31m---------------------------------------------------------------------------\u001b[0;32m\nNOTE: If your import is failing due to a missing package, you can\nmanually install dependencies using either !pip or !apt.\n\nTo view examples of installing some common dependencies, click the\n\"Open Examples\" button below.\n\u001b[0;31m---------------------------------------------------------------------------\u001b[0m\n"
     ]
    }
   ],
   "source": [
    "import numpy as np\n",
    "from sklearn.datasets import load_boston\n",
    "from sklearn.linear_model import LinearRegression\n",
    "from sklearn.impute import SimpleImputer\n",
    "from sklearn.metrics import mean_squared_error\n",
    "\n",
    "# Load the Boston Housing dataset\n",
    "boston = load_boston()\n",
    "\n",
    "# Select the \"RM\" feature and randomly set 10% of its values to missing\n",
    "rm = boston.data[:, 5]\n",
    "missing_mask = np.random.rand(len(rm)) < 0.1\n",
    "rm_missing = rm.copy()\n",
    "rm_missing[missing_mask] = np.nan\n",
    "\n",
    "# Impute the missing values using multiple imputation\n",
    "imputer = SimpleImputer(strategy='median')\n",
    "imputed_rm = imputer.fit_transform(boston.data[:, 5].reshape(-1, 1))\n",
    "\n",
    "# Combine the imputed \"RM\" feature with the other features\n",
    "X = np.concatenate((boston.data[:, :5], imputed_rm, boston.data[:, 6:]), axis=1)\n",
    "\n",
    "# Split the dataset into training and test sets\n",
    "np.random.seed(0)\n",
    "indices = np.random.permutation(len(X))\n",
    "train_size = int(len(X) * 0.8)\n",
    "train_indices, test_indices = indices[:train_size], indices[train_size:]\n",
    "X_train, y_train = X[train_indices], boston.target[train_indices]\n",
    "X_test, y_test = X[test_indices], boston.target[test_indices]\n",
    "\n",
    "# Fit a linear regression model without imputation\n",
    "lr_no_impute = LinearRegression()\n",
    "lr_no_impute.fit(X_train, y_train)\n",
    "y_pred_no_impute = lr_no_impute.predict(X_test)\n",
    "mse_no_impute = mean_squared_error(y_test, y_pred_no_impute)\n",
    "\n",
    "# Fit a linear regression model with imputation\n",
    "lr_impute = LinearRegression()\n",
    "lr_impute.fit(X_train, y_train)\n",
    "y_pred_impute = lr_impute.predict(X_test)\n",
    "mse_impute = mean_squared_error(y_test, y_pred_impute)\n",
    "\n",
    "print(f\"MSE without imputation: {mse_no_impute:.2f}\")\n",
    "print(f\"MSE with imputation: {mse_impute:.2f}\")\n",
    "\n"
   ]
  },
  {
   "cell_type": "markdown",
   "metadata": {
    "id": "ILzGAncbn-gA"
   },
   "source": [
    "**Q2.**"
   ]
  },
  {
   "cell_type": "code",
   "execution_count": null,
   "metadata": {
    "colab": {
     "base_uri": "https://localhost:8080/"
    },
    "id": "ab5-LTL7oAVT",
    "outputId": "4bd23fe7-abf3-43db-8227-c335004a3dcd"
   },
   "outputs": [
    {
     "name": "stdout",
     "output_type": "stream",
     "text": [
      "PassengerId      0\n",
      "Survived         0\n",
      "Pclass           0\n",
      "Name             0\n",
      "Sex              0\n",
      "Age            177\n",
      "SibSp            0\n",
      "Parch            0\n",
      "Ticket           0\n",
      "Fare             0\n",
      "Cabin          687\n",
      "Embarked         2\n",
      "dtype: int64\n",
      "Accuracy: 0.7821229050279329\n"
     ]
    }
   ],
   "source": [
    "import pandas as pd\n",
    "import numpy as np\n",
    "\n",
    "# Load the Titanic dataset from titanic file\n",
    "titanic = pd.read_csv('/content/titanic_dataset.csv')\n",
    "\n",
    "# Analyze the missing values\n",
    "print(titanic.isnull().sum())\n",
    "# Handling missing values in Age and Cabin features\n",
    "titanic['Age'].fillna(titanic['Age'].median(), inplace=True)\n",
    "titanic['Cabin'].fillna('Unknown', inplace=True)\n",
    "from sklearn.ensemble import RandomForestClassifier\n",
    "from sklearn.model_selection import train_test_split\n",
    "from sklearn.metrics import accuracy_score\n",
    "\n",
    "# Drop irrelevant features\n",
    "titanic = titanic.drop(['PassengerId', 'Name', 'Ticket', 'Embarked'], axis=1)\n",
    "\n",
    "# Convert categorical features to numerical\n",
    "titanic['Sex'] = titanic['Sex'].map({'male': 0, 'female': 1})\n",
    "titanic['Cabin'] = titanic['Cabin'].astype('category').cat.codes\n",
    "\n",
    "# Split the dataset into training and testing sets\n",
    "X = titanic.drop('Survived', axis=1)\n",
    "y = titanic['Survived']\n",
    "X_train, X_test, y_train, y_test = train_test_split(X, y, test_size=0.2, random_state=42)\n",
    "\n",
    "# Train a random forest classifier\n",
    "rfc = RandomForestClassifier(n_estimators=100, random_state=42)\n",
    "rfc.fit(X_train, y_train)\n",
    "\n",
    "# Make predictions on the testing set\n",
    "y_pred = rfc.predict(X_test)\n",
    "\n",
    "# Evaluate the performance of the classifier\n",
    "accuracy = accuracy_score(y_test, y_pred)\n",
    "print('Accuracy:', accuracy)\n"
   ]
  },
  {
   "cell_type": "markdown",
   "metadata": {
    "id": "3Zv8q_2jpN34"
   },
   "source": [
    "**Q3.**"
   ]
  },
  {
   "cell_type": "code",
   "execution_count": null,
   "metadata": {
    "colab": {
     "base_uri": "https://localhost:8080/"
    },
    "id": "RUDsstPkpSM-",
    "outputId": "ae26bcb9-b373-4d93-f408-281b5ab6990d"
   },
   "outputs": [
    {
     "name": "stdout",
     "output_type": "stream",
     "text": [
      "Accuracy without imputation: 0.9666666666666667\n",
      "Accuracy with imputation: 0.9666666666666667\n"
     ]
    }
   ],
   "source": [
    "from sklearn.datasets import load_iris\n",
    "import numpy as np\n",
    "\n",
    "# Load the Iris dataset\n",
    "iris = load_iris()\n",
    "\n",
    "# Set random seed\n",
    "np.random.seed(42)\n",
    "\n",
    "# Set 30% of values in a randomly chosen feature to missing\n",
    "missing_feature_index = np.random.choice(iris.data.shape[1])\n",
    "missing_mask = np.random.choice([True, False], size=iris.data.shape[0], p=[0.3, 0.7])\n",
    "iris.data[missing_mask, missing_feature_index] = np.nan\n",
    "from sklearn.impute import KNNImputer\n",
    "from sklearn.model_selection import train_test_split\n",
    "from sklearn.ensemble import RandomForestClassifier\n",
    "from sklearn.metrics import accuracy_score\n",
    "\n",
    "# Impute missing values using KNNImputer\n",
    "imputer = KNNImputer(n_neighbors=5)\n",
    "iris_imputed = imputer.fit_transform(iris.data)\n",
    "\n",
    "# Split the dataset into training and testing sets\n",
    "X_train, X_test, y_train, y_test = train_test_split(iris_imputed, iris.target, test_size=0.2, random_state=42)\n",
    "\n",
    "# Train a random forest classifier without imputation\n",
    "rfc_no_impute = RandomForestClassifier(n_estimators=100, random_state=42)\n",
    "rfc_no_impute.fit(X_train, y_train)\n",
    "\n",
    "# Make predictions on the testing set without imputation\n",
    "y_pred_no_impute = rfc_no_impute.predict(X_test)\n",
    "\n",
    "# Evaluate the performance of the classifier without imputation\n",
    "accuracy_no_impute = accuracy_score(y_test, y_pred_no_impute)\n",
    "print('Accuracy without imputation:', accuracy_no_impute)\n",
    "\n",
    "# Train a random forest classifier with imputation\n",
    "rfc_impute = RandomForestClassifier(n_estimators=100, random_state=42)\n",
    "rfc_impute.fit(X_train, y_train)\n",
    "\n",
    "# Make predictions on the testing set with imputation\n",
    "y_pred_impute = rfc_impute.predict(X_test)\n",
    "\n",
    "# Evaluate the performance of the classifier with imputation\n",
    "accuracy_impute = accuracy_score(y_test, y_pred_impute)\n",
    "print('Accuracy with imputation:', accuracy_impute)\n"
   ]
  }
 ],
 "metadata": {
  "colab": {
   "provenance": []
  },
  "kernelspec": {
   "display_name": "Python 3 (ipykernel)",
   "language": "python",
   "name": "python3"
  },
  "language_info": {
   "codemirror_mode": {
    "name": "ipython",
    "version": 3
   },
   "file_extension": ".py",
   "mimetype": "text/x-python",
   "name": "python",
   "nbconvert_exporter": "python",
   "pygments_lexer": "ipython3",
   "version": "3.9.12"
  }
 },
 "nbformat": 4,
 "nbformat_minor": 1
}
